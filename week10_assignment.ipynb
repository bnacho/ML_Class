{
 "cells": [
  {
   "cell_type": "markdown",
   "id": "b9e2c512-5825-4d64-80e0-f09b9aa9c933",
   "metadata": {},
   "source": [
    "## 라이브러리 호출"
   ]
  },
  {
   "cell_type": "code",
   "execution_count": 5,
   "id": "e5b88150-3c3a-4dce-a189-920fce7ab399",
   "metadata": {},
   "outputs": [],
   "source": [
    "import numpy as np\n",
    "import matplotlib.pyplot as plt\n",
    "import warnings # 경고 제거용\n",
    "warnings.filterwarnings(\"ignore\", category=DeprecationWarning)"
   ]
  },
  {
   "cell_type": "markdown",
   "id": "788f3473-6daf-4752-962d-6008e4fc2f33",
   "metadata": {},
   "source": [
    "## 데이터 생성"
   ]
  },
  {
   "cell_type": "code",
   "execution_count": 6,
   "id": "d799b8cb-1fb5-4163-a4b7-be97516c86fd",
   "metadata": {},
   "outputs": [],
   "source": [
    "np.random.seed(0)\n",
    "num_samples = 1000\n",
    "x1 = np.random.uniform(0, 1, num_samples)\n",
    "x2 = np.random.uniform(0, 1, num_samples)\n",
    "Input = np.column_stack((x1, x2))\n",
    "y = 2*x1 + 3*x2 - 1"
   ]
  },
  {
   "cell_type": "markdown",
   "id": "73f736df-5bc7-4b8d-aaed-a8b72ffdcb9c",
   "metadata": {},
   "source": [
    "## ANN 구조 및 가중치 초기값 결정"
   ]
  },
  {
   "cell_type": "code",
   "execution_count": 7,
   "id": "319dd02c-d3e4-46a0-af60-0d444f2034a2",
   "metadata": {},
   "outputs": [],
   "source": [
    "hidden_layer_size = 3\n",
    "input_layer_size = 2\n",
    "output_layer_size = 1\n",
    "\n",
    "W1 = np.random.rand(hidden_layer_size, input_layer_size)\n",
    "b1 = np.random.rand(hidden_layer_size)\n",
    "W2 = np.random.rand(output_layer_size, hidden_layer_size)\n",
    "b2 = np.random.rand(output_layer_size)"
   ]
  },
  {
   "cell_type": "markdown",
   "id": "c7854f4d-ed29-4dd7-9721-05f8cba18933",
   "metadata": {},
   "source": [
    "## 시그모이드, 시그모이드 미분 함수 정의"
   ]
  },
  {
   "cell_type": "code",
   "execution_count": 8,
   "id": "53426daa-3d6c-4378-ac3e-5efc313b2d52",
   "metadata": {},
   "outputs": [],
   "source": [
    "def sigmoid(x):\n",
    "    return 1 / (1 + np.exp(-x))\n",
    "\n",
    "def sigmoid_derivative(x):\n",
    "    return x * (1 - x)"
   ]
  },
  {
   "cell_type": "markdown",
   "id": "f1cb506a-c610-4a83-bf71-32293c22626d",
   "metadata": {},
   "source": [
    "## 모델 학습"
   ]
  },
  {
   "cell_type": "code",
   "execution_count": 9,
   "id": "e9dbdda8-308a-467b-b8cb-334eaa9e6642",
   "metadata": {},
   "outputs": [
    {
     "name": "stdout",
     "output_type": "stream",
     "text": [
      "MSE and MAPE at epoch 0: 0.4924, 641.22%\n",
      "MSE and MAPE at epoch 5: 0.0222, 107.67%\n",
      "MSE and MAPE at epoch 10: 0.0011, 6.33%\n",
      "MSE and MAPE at epoch 15: 0.0009, 6.29%\n",
      "MSE and MAPE at epoch 20: 0.0009, 6.36%\n",
      "MSE and MAPE at epoch 25: 0.0008, 6.42%\n",
      "MSE and MAPE at epoch 30: 0.0008, 6.47%\n",
      "MSE and MAPE at epoch 35: 0.0008, 6.57%\n",
      "MSE and MAPE at epoch 40: 0.0008, 6.72%\n",
      "MSE and MAPE at epoch 45: 0.0008, 6.82%\n",
      "MSE and MAPE at epoch 49: 0.0008, 6.88%\n"
     ]
    }
   ],
   "source": [
    "alpha = 0.01\n",
    "epochs = 50\n",
    "MSE_list, MAPE_list = [], []\n",
    "\n",
    "for epoch in range(epochs):\n",
    "    MSE, MAPE = 0, 0\n",
    "    for iter in range(num_samples):\n",
    "        X = Input[iter]\n",
    "\n",
    "        # 순전파\n",
    "        Z = W1 @ X.reshape(-1, 1) + b1.reshape(-1, 1)\n",
    "        h = sigmoid(Z)\n",
    "        y_pred = W2 @ h + b2\n",
    "\n",
    "        # Loss\n",
    "        J = 0.5 * (y_pred - y[iter])**2\n",
    "        MSE += J\n",
    "        MAPE += np.abs(y_pred - y[iter]) / np.abs(y[iter]) * 100\n",
    "\n",
    "        # 역전파\n",
    "        dJdY = y_pred - y[iter]\n",
    "        dJdb2 = dJdY\n",
    "        dJdW2_11, dJdW2_12, dJdW2_13 = dJdY * h[0], dJdY * h[1], dJdY * h[2]\n",
    "\n",
    "        dJdh1, dJdh2, dJdh3 = dJdY * W2[0, 0], dJdY * W2[0, 1], dJdY * W2[0, 2]\n",
    "        dJdZ1 = dJdh1 * sigmoid_derivative(h[0])\n",
    "        dJdZ2 = dJdh2 * sigmoid_derivative(h[1])\n",
    "        dJdZ3 = dJdh3 * sigmoid_derivative(h[2])\n",
    "\n",
    "        dJdW1_11, dJdW1_12 = dJdZ1 * X[0], dJdZ1 * X[1]\n",
    "        dJdW1_21, dJdW1_22 = dJdZ2 * X[0], dJdZ2 * X[1]\n",
    "        dJdW1_31, dJdW1_32 = dJdZ3 * X[0], dJdZ3 * X[1]\n",
    "\n",
    "        dJdb1_11 = dJdZ1\n",
    "        dJdb1_21 = dJdZ2\n",
    "        dJdb1_31 = dJdZ3\n",
    "\n",
    "        # 경사하강법\n",
    "        W1[0][0] -= alpha * dJdW1_11\n",
    "        W1[0][1] -= alpha * dJdW1_12\n",
    "        W1[1][0] -= alpha * dJdW1_21\n",
    "        W1[1][1] -= alpha * dJdW1_22\n",
    "        W1[2][0] -= alpha * dJdW1_31\n",
    "        W1[2][1] -= alpha * dJdW1_32\n",
    "        W2[0][0] -= alpha * dJdW2_11\n",
    "        W2[0][1] -= alpha * dJdW2_12\n",
    "        W2[0][2] -= alpha * dJdW2_13\n",
    "        b1[0] -= alpha * dJdb1_11\n",
    "        b1[1] -= alpha * dJdb1_21\n",
    "        b1[2] -= alpha * dJdb1_31\n",
    "        b2[0] -= alpha * dJdb2\n",
    "\n",
    "    # 에러 출력\n",
    "    MSE /= num_samples\n",
    "    MAPE /= num_samples\n",
    "    MSE_list.append(np.squeeze(MSE))\n",
    "    MAPE_list.append(np.squeeze(MAPE))\n",
    "    if epoch % 5 == 0 or epoch == epochs - 1:\n",
    "        print(f'MSE and MAPE at epoch {epoch}: {np.squeeze(MSE):.4f}, {np.squeeze(MAPE):.2f}%')"
   ]
  },
  {
   "cell_type": "markdown",
   "id": "f30ad04d-9d42-4809-9a25-c28f4bacf70c",
   "metadata": {},
   "source": [
    "## 에러 시각화"
   ]
  },
  {
   "cell_type": "code",
   "execution_count": 10,
   "id": "16928bea-4cb4-4d4a-9640-e1249a480be8",
   "metadata": {},
   "outputs": [
    {
     "data": {
      "image/png": "[encoded data removed]",
      "text/plain": [
       "<Figure size 500x600 with 2 Axes>"
      ]
     },
     "metadata": {},
     "output_type": "display_data"
    }
   ],
   "source": [
    "fig, ax = plt.subplots(2, 1, figsize=(5, 6), sharex=True)\n",
    "\n",
    "ax[0].plot(np.arange(1, epochs + 1), MSE_list, label='MSE', color='b', linewidth=1.5)\n",
    "ax[0].set_ylabel(\"MSE\")\n",
    "ax[0].set_title(\"MSE\")\n",
    "ax[0].grid(True)\n",
    "\n",
    "ax[1].plot(np.arange(1, epochs + 1), MAPE_list, label='MAPE', color='r', linewidth=1.5)\n",
    "ax[1].set_xlabel(\"Epochs\")\n",
    "ax[1].set_ylabel(\"MAPE (%)\")\n",
    "ax[1].set_title(\"MAPE\")\n",
    "ax[1].grid(True)\n",
    "\n",
    "plt.tight_layout()\n",
    "plt.show()"
   ]
  }
 ],
 "metadata": {
  "kernelspec": {
   "display_name": "Python 3 (ipykernel)",
   "language": "python",
   "name": "python3"
  },
  "language_info": {
   "codemirror_mode": {
    "name": "ipython",
    "version": 3
   },
   "file_extension": ".py",
   "mimetype": "text/x-python",
   "name": "python",
   "nbconvert_exporter": "python",
   "pygments_lexer": "ipython3",
   "version": "3.11.7"
  }
 },
 "nbformat": 4,
 "nbformat_minor": 5
}
